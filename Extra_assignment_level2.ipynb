{
 "cells": [
  {
   "cell_type": "code",
   "execution_count": 3,
   "id": "91b1c20c-3864-4fa9-8198-ccf4b7498aae",
   "metadata": {},
   "outputs": [
    {
     "name": "stdout",
     "output_type": "stream",
     "text": [
      "0\n",
      "1\n",
      "2\n",
      "3\n",
      "4\n",
      "5\n",
      "6\n",
      "7\n",
      "8\n",
      "9\n",
      "10\n",
      "11\n",
      "12\n",
      "13\n",
      "14\n",
      "15\n",
      "16\n",
      "17\n",
      "18\n",
      "19\n"
     ]
    }
   ],
   "source": [
    "# print 0 to 20 by using range\n",
    "for number in range(0, 20):\n",
    "    print(number)"
   ]
  },
  {
   "cell_type": "code",
   "execution_count": 6,
   "id": "7f0ebcb8-3d74-4d82-a04a-e851cc410562",
   "metadata": {},
   "outputs": [
    {
     "name": "stdout",
     "output_type": "stream",
     "text": [
      "10 11 12 13 14 15 16 17 18 19 "
     ]
    }
   ],
   "source": [
    "# print range 10 to 20\n",
    "for number in range(10,20):\n",
    "    print(number, end = \" \")"
   ]
  },
  {
   "cell_type": "code",
   "execution_count": 9,
   "id": "321253ce-62f4-4bd5-89fb-f3dacc4bee6f",
   "metadata": {},
   "outputs": [
    {
     "name": "stdout",
     "output_type": "stream",
     "text": [
      "Number of items in the list:\n",
      " 7\n"
     ]
    }
   ],
   "source": [
    "# Print number of items in the list by using 'len'\n",
    "lists = [10, 20, 14, 55, 43, 87, 76]\n",
    "total_items = len(lists)\n",
    "print(\"Number of items in the list:\\n\", total_items)\n",
    "    "
   ]
  },
  {
   "cell_type": "code",
   "execution_count": 10,
   "id": "c59fc224-b84e-4f68-9cdd-2453ad909903",
   "metadata": {},
   "outputs": [
    {
     "name": "stdout",
     "output_type": "stream",
     "text": [
      "A\n",
      "r\n",
      "t\n",
      "i\n",
      "f\n",
      "i\n",
      "c\n",
      "i\n",
      "a\n",
      "l\n",
      " \n",
      "I\n",
      "n\n",
      "t\n",
      "e\n",
      "l\n",
      "l\n",
      "i\n",
      "g\n",
      "e\n",
      "n\n",
      "c\n",
      "e\n"
     ]
    }
   ],
   "source": [
    "name = \"Artificial Intelligence\"\n",
    "for letter in name:\n",
    "    print(letter)"
   ]
  },
  {
   "cell_type": "code",
   "execution_count": 12,
   "id": "3920f411-7737-4b8a-80e0-3093344f63fc",
   "metadata": {},
   "outputs": [
    {
     "name": "stdin",
     "output_type": "stream",
     "text": [
      "enter name:  Kaaviya\n",
      "enter age:  37\n",
      "enter profession:  SE\n"
     ]
    },
    {
     "name": "stdout",
     "output_type": "stream",
     "text": [
      "Your name: Kaaviya\n",
      "Your age: 37\n",
      "Your profession: SE\n"
     ]
    }
   ],
   "source": [
    "name = input(\"enter name: \")\n",
    "age = input(\"enter age: \")\n",
    "prof = input(\"enter profession: \")\n",
    "print(f\"Your name: {name}\")\n",
    "print(f\"Your age: {age}\")\n",
    "print(f\"Your profession: {prof}\")"
   ]
  },
  {
   "cell_type": "code",
   "execution_count": 13,
   "id": "b0783a0f-e720-48e0-84e7-e926bdc00a32",
   "metadata": {},
   "outputs": [
    {
     "name": "stdout",
     "output_type": "stream",
     "text": [
      "(1, 'Welcome', 2, 'Hope')\n"
     ]
    }
   ],
   "source": [
    "# Print this mixered datatype using Tuples\n",
    "tup = (1, 'Welcome', 2, 'Hope')\n",
    "print(tup)"
   ]
  },
  {
   "cell_type": "code",
   "execution_count": 14,
   "id": "a20026bd-e0ee-4acb-98ca-7749643f17b7",
   "metadata": {},
   "outputs": [
    {
     "name": "stdout",
     "output_type": "stream",
     "text": [
      "((0, 1, 2, 3), ('python', 'HOPE'))\n"
     ]
    }
   ],
   "source": [
    "tuple1 = (0, 1, 2, 3)\n",
    "tuple2 = ('python', 'HOPE')\n",
    "tuple3 = (tuple1 , tuple2)\n",
    "print(tuple3)\n"
   ]
  },
  {
   "cell_type": "code",
   "execution_count": 15,
   "id": "ff678f17-c041-422b-a9d0-d9dbb3622ee6",
   "metadata": {},
   "outputs": [
    {
     "name": "stdout",
     "output_type": "stream",
     "text": [
      "19 is odd.\n",
      "25 is odd.\n",
      "1 is odd.\n"
     ]
    }
   ],
   "source": [
    "# print Odd Numbers in the list\n",
    "numbers = [20,10,16,19,25,1,276,188]\n",
    "for item in numbers:\n",
    "    if(item % 2 != 0):\n",
    "        print(f\"{item} is odd.\")"
   ]
  },
  {
   "cell_type": "code",
   "execution_count": 16,
   "id": "683d313f-6dac-4c72-852a-4fa43df2441b",
   "metadata": {},
   "outputs": [
    {
     "name": "stdout",
     "output_type": "stream",
     "text": [
      "20 is even.\n",
      "10 is even.\n",
      "16 is even.\n",
      "276 is even.\n",
      "188 is even.\n"
     ]
    }
   ],
   "source": [
    " # print Even numbers in the list\n",
    "numbers = [20,10,16,19,25,1,276,188]\n",
    "for item in numbers:\n",
    "    if(item % 2 == 0):\n",
    "        print(f\"{item} is even.\")"
   ]
  },
  {
   "cell_type": "code",
   "execution_count": null,
   "id": "b481c6aa-5b17-483b-b83e-151a82d25cb1",
   "metadata": {},
   "outputs": [],
   "source": []
  }
 ],
 "metadata": {
  "kernelspec": {
   "display_name": "Python 3 (ipykernel)",
   "language": "python",
   "name": "python3"
  },
  "language_info": {
   "codemirror_mode": {
    "name": "ipython",
    "version": 3
   },
   "file_extension": ".py",
   "mimetype": "text/x-python",
   "name": "python",
   "nbconvert_exporter": "python",
   "pygments_lexer": "ipython3",
   "version": "3.13.5"
  }
 },
 "nbformat": 4,
 "nbformat_minor": 5
}
