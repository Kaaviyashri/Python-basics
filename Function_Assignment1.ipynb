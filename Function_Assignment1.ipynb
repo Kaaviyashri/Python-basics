{
 "cells": [
  {
   "cell_type": "code",
   "execution_count": 1,
   "id": "020c5182-2ba8-4ac9-906a-9028f19c97c0",
   "metadata": {},
   "outputs": [],
   "source": [
    "# Create a function that lists out the items in the list\n",
    "def subfields(field_list):\n",
    "    print(\"Sub-fields in AI are:\")\n",
    "    for field in field_list:\n",
    "        print(field)\n"
   ]
  },
  {
   "cell_type": "code",
   "execution_count": 2,
   "id": "73122d70-4159-477f-a7f0-c4db45e47559",
   "metadata": {},
   "outputs": [
    {
     "name": "stdout",
     "output_type": "stream",
     "text": [
      "Sub-fields in AI are:\n",
      "Machine Learning\n",
      "Neural Networks\n",
      "Vision\n",
      "Robotics\n",
      "Speech Processing\n",
      "Natural Language Processing\n"
     ]
    }
   ],
   "source": [
    "sub_fields = [\"Machine Learning\", \"Neural Networks\", \"Vision\", \"Robotics\", \"Speech Processing\", \"Natural Language Processing\"]\n",
    "subfields(sub_fields)"
   ]
  },
  {
   "cell_type": "code",
   "execution_count": 3,
   "id": "bf6ec6d6-a3f2-4630-8347-8517548507e7",
   "metadata": {},
   "outputs": [],
   "source": [
    "# Create a function that checks whether the given number is Odd or Even\n",
    "def oddoreven(num):\n",
    "    if(num % 2 == 0):\n",
    "        return \"even\"\n",
    "    else:\n",
    "        return \"odd\"\n",
    "    "
   ]
  },
  {
   "cell_type": "code",
   "execution_count": 5,
   "id": "01195e7b-1c43-430e-a974-57c7eafa81f5",
   "metadata": {},
   "outputs": [
    {
     "name": "stdin",
     "output_type": "stream",
     "text": [
      "Enter a number:  52452\n"
     ]
    },
    {
     "name": "stdout",
     "output_type": "stream",
     "text": [
      "52452 is a even number\n"
     ]
    }
   ],
   "source": [
    "num = int(input(\"Enter a number: \"))\n",
    "result = oddoreven(num)\n",
    "print(f\"{num} is a {result} number\")"
   ]
  },
  {
   "cell_type": "code",
   "execution_count": 6,
   "id": "309e18aa-0dc5-486c-97d3-034857dd6981",
   "metadata": {},
   "outputs": [],
   "source": [
    "# Create a function that tells elegibility of marriage for male and female according to their age limit like 21 for male and 18 for women.\n",
    "\n",
    "def eligible(gender, age):\n",
    "    if(gender == \"male\" and age >= 21):\n",
    "        return \"Eligible\"\n",
    "    elif(gender == \"female\" and age >= 18):\n",
    "        return \"Eligible\"\n",
    "    else:\n",
    "        return \"Not Eligible\"\n",
    "    "
   ]
  },
  {
   "cell_type": "code",
   "execution_count": 7,
   "id": "e026fd2b-8f01-4b05-8940-6c0c9398e689",
   "metadata": {},
   "outputs": [
    {
     "name": "stdin",
     "output_type": "stream",
     "text": [
      "Your gender:  male\n",
      "Your age:  20\n"
     ]
    },
    {
     "name": "stdout",
     "output_type": "stream",
     "text": [
      "Not Eligible\n"
     ]
    }
   ],
   "source": [
    "gender = input(\"Your gender: \").lower()\n",
    "age = int(input(\"Your age: \"))\n",
    "print(eligible(gender, age))"
   ]
  },
  {
   "cell_type": "code",
   "execution_count": 8,
   "id": "9ba8a92a-a9fd-4177-9ae1-af828608d6d8",
   "metadata": {},
   "outputs": [],
   "source": [
    "# calculate the percentage of your 10th mark\n",
    "def percentage(total, full_score):\n",
    "    percent = total/full_score * 100\n",
    "    return percent  "
   ]
  },
  {
   "cell_type": "code",
   "execution_count": 9,
   "id": "999d6431-e41a-401c-a142-cbed5d55b8f8",
   "metadata": {},
   "outputs": [
    {
     "name": "stdin",
     "output_type": "stream",
     "text": [
      "Subject1 =  98\n",
      "Subject2 =  87\n",
      "Subject3 =  95\n",
      "Subject4 =  95\n",
      "Subject5 =  93\n"
     ]
    },
    {
     "name": "stdout",
     "output_type": "stream",
     "text": [
      "Total =  468\n",
      "Percentage =  93.60000000000001\n"
     ]
    }
   ],
   "source": [
    "subject1 = int(input(\"Subject1 = \"))\n",
    "subject2 = int(input(\"Subject2 = \"))\n",
    "subject3 = int(input(\"Subject3 = \"))\n",
    "subject4 = int(input(\"Subject4 = \"))\n",
    "subject5 = int(input(\"Subject5 = \"))\n",
    "full_score = 500\n",
    "total = subject1 + subject2 + subject3 + subject4 + subject5\n",
    "print(\"Total = \", total)\n",
    "print(\"Percentage = \",percentage(total, full_score))"
   ]
  },
  {
   "cell_type": "code",
   "execution_count": 11,
   "id": "9ffa2dd3-518f-4fdd-8318-90e886b94cc1",
   "metadata": {},
   "outputs": [],
   "source": [
    "#print area and perimeter of triangle\n",
    "def triangle():\n",
    "    breadth = int(input(\"Breadth: \"))\n",
    "    height = int(input(\"Height: \"))\n",
    "    print(\"Area formula: (Breadth * Height) / 2\")\n",
    "    print(\"Area of Triangle: \", breadth * height / 2)\n",
    "    height1 = int(input(\"Height1: \"))\n",
    "    height2 = int(input(\"Height2: \"))\n",
    "    breadth = int(input(\"Breadth: \"))\n",
    "    print(\"Perimeter formula: Height1+Height2+Breadth\")\n",
    "    print(\"Perimeter of Triangle:\", height1 + height2 +breadth)\n"
   ]
  },
  {
   "cell_type": "code",
   "execution_count": 12,
   "id": "b0fef3a6-73db-46db-82cc-047be08e4f42",
   "metadata": {},
   "outputs": [
    {
     "name": "stdin",
     "output_type": "stream",
     "text": [
      "Breadth:  34\n",
      "Height:  32\n"
     ]
    },
    {
     "name": "stdout",
     "output_type": "stream",
     "text": [
      "Area formula: (Breadth * Height) / 2\n",
      "Area of Triangle:  544.0\n"
     ]
    },
    {
     "name": "stdin",
     "output_type": "stream",
     "text": [
      "Height1:  2\n",
      "Height2:  4\n",
      "Breadth:  4\n"
     ]
    },
    {
     "name": "stdout",
     "output_type": "stream",
     "text": [
      "Perimeter formula: Height1+Height2+Breadth\n",
      "Perimeter of Triangle: 10\n"
     ]
    }
   ],
   "source": [
    "triangle()"
   ]
  },
  {
   "cell_type": "code",
   "execution_count": null,
   "id": "4082c09b-eb25-4123-81e9-f5099e7b114e",
   "metadata": {},
   "outputs": [],
   "source": []
  }
 ],
 "metadata": {
  "kernelspec": {
   "display_name": "Python 3 (ipykernel)",
   "language": "python",
   "name": "python3"
  },
  "language_info": {
   "codemirror_mode": {
    "name": "ipython",
    "version": 3
   },
   "file_extension": ".py",
   "mimetype": "text/x-python",
   "name": "python",
   "nbconvert_exporter": "python",
   "pygments_lexer": "ipython3",
   "version": "3.13.5"
  }
 },
 "nbformat": 4,
 "nbformat_minor": 5
}
