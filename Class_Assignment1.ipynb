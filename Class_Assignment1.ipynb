{
 "cells": [
  {
   "cell_type": "code",
   "execution_count": 5,
   "id": "50c08451-b4c0-43b5-aba8-31a30bfc6a5e",
   "metadata": {},
   "outputs": [],
   "source": [
    "# Create a class and function, and list out the items in the list\n",
    "class SubfieldsInAI():\n",
    "    def subfields():\n",
    "        sub_fields = [\"Machine Learning\", \"Neural Networks\", \"Vision\", \"Robotics\", \"Speech Processing\", \"Natural Language Processing\"]\n",
    "        print(\"Sub-fields in AI are:\")\n",
    "        for field in sub_fields:\n",
    "            print(field)"
   ]
  },
  {
   "cell_type": "code",
   "execution_count": 6,
   "id": "af444f08-2aa1-4567-aeb9-1aaf2d0c4af6",
   "metadata": {},
   "outputs": [
    {
     "name": "stdout",
     "output_type": "stream",
     "text": [
      "Sub-fields in AI are:\n",
      "Machine Learning\n",
      "Neural Networks\n",
      "Vision\n",
      "Robotics\n",
      "Speech Processing\n",
      "Natural Language Processing\n"
     ]
    }
   ],
   "source": [
    "SubfieldsInAI.subfields()"
   ]
  },
  {
   "cell_type": "code",
   "execution_count": 10,
   "id": "c341d40f-b779-470c-95f8-4a4c33db942b",
   "metadata": {},
   "outputs": [],
   "source": [
    "# Create a function that checks whether the given number is Odd or Even\n",
    "class OddEven():\n",
    "    def OddEven():\n",
    "        num = int(input(\"Enter a number: \"))\n",
    "        if(num % 2 == 0):\n",
    "            print(f\"{num} is a even number\")\n",
    "        else:\n",
    "            print(f\"{num}is a odd number\")"
   ]
  },
  {
   "cell_type": "code",
   "execution_count": 11,
   "id": "ff7bd94a-cd2b-4075-babb-d5e97c65cab3",
   "metadata": {},
   "outputs": [
    {
     "name": "stdin",
     "output_type": "stream",
     "text": [
      "Enter a number:  52452\n"
     ]
    },
    {
     "name": "stdout",
     "output_type": "stream",
     "text": [
      "52452 is a even number\n"
     ]
    }
   ],
   "source": [
    "OddEven.OddEven()"
   ]
  },
  {
   "cell_type": "code",
   "execution_count": 21,
   "id": "f4ac904a-8b4f-47bd-8621-358831083f1a",
   "metadata": {},
   "outputs": [],
   "source": [
    "# Create a function that tells elegibility of marriage for male and female according to their age limit like 21 for male and 18 for female\n",
    "class EligibilityForMarriage():\n",
    "    def Eligible():\n",
    "        gender = input(\"Your gender: \").lower()\n",
    "        age = int(input(\"Your age: \"))\n",
    "        if(gender == \"male\" and age >= 21):\n",
    "            print(\"Eligible\")\n",
    "        elif(gender == \"female\" and age >= 18):\n",
    "            print(\"Eligible\")\n",
    "        else:\n",
    "            print(\"Not Eligible\")"
   ]
  },
  {
   "cell_type": "code",
   "execution_count": 22,
   "id": "53834abf-5396-4bf1-8a92-62acf8b4abdf",
   "metadata": {},
   "outputs": [
    {
     "name": "stdin",
     "output_type": "stream",
     "text": [
      "Your gender:  male\n",
      "Your age:  20\n"
     ]
    },
    {
     "name": "stdout",
     "output_type": "stream",
     "text": [
      "Not Eligible\n"
     ]
    }
   ],
   "source": [
    "EligibilityForMarriage.Eligible()"
   ]
  },
  {
   "cell_type": "code",
   "execution_count": 27,
   "id": "db0ce811-dc6f-4bc2-8424-acd4756e6f63",
   "metadata": {},
   "outputs": [],
   "source": [
    "# calculate the percentage of your 10th mark\n",
    "class FindPercent():\n",
    "    def percentage():\n",
    "        subject1 = int(input(\"Subject1 = \"))\n",
    "        subject2 = int(input(\"Subject2 = \"))\n",
    "        subject3 = int(input(\"Subject3 = \"))\n",
    "        subject4 = int(input(\"Subject4 = \"))\n",
    "        subject5 = int(input(\"Subject5 = \"))\n",
    "        full_score = 500\n",
    "        total = subject1 + subject2 + subject3 + subject4 + subject5\n",
    "        print(\"Total = \", total)\n",
    "        percent = total/full_score * 100\n",
    "        print(\"Percentage = \", percent)"
   ]
  },
  {
   "cell_type": "code",
   "execution_count": 28,
   "id": "1c972cb4-7f94-4320-984c-7d6b0d993da1",
   "metadata": {},
   "outputs": [
    {
     "name": "stdin",
     "output_type": "stream",
     "text": [
      "Subject1 =  98\n",
      "Subject2 =  87\n",
      "Subject3 =  95\n",
      "Subject4 =  95\n",
      "Subject5 =  93\n"
     ]
    },
    {
     "name": "stdout",
     "output_type": "stream",
     "text": [
      "Total =  468\n",
      "Percentage =  93.60000000000001\n"
     ]
    }
   ],
   "source": [
    " FindPercent.percentage()"
   ]
  },
  {
   "cell_type": "code",
   "execution_count": 29,
   "id": "f49049b7-aac4-43eb-8085-4d288cd1c5b2",
   "metadata": {},
   "outputs": [],
   "source": [
    "#print area and perimeter of triangle using class and functions\n",
    "class triangle():\n",
    "    def triangle():\n",
    "        breadth = int(input(\"Breadth: \"))\n",
    "        height = int(input(\"Height: \"))\n",
    "        print(\"Area formula: (Breadth * Height) / 2\")\n",
    "        print(\"Area of Triangle: \", breadth * height / 2)\n",
    "        height1 = int(input(\"Height1: \"))\n",
    "        height2 = int(input(\"Height2: \"))\n",
    "        breadth = int(input(\"Breadth: \"))\n",
    "        print(\"Perimeter formula: Height1+Height2+Breadth\")\n",
    "        print(\"Perimeter of Triangle:\", height1 + height2 +breadth)"
   ]
  },
  {
   "cell_type": "code",
   "execution_count": 30,
   "id": "656f047a-c5d4-4658-803a-56a82ffb14df",
   "metadata": {},
   "outputs": [
    {
     "name": "stdin",
     "output_type": "stream",
     "text": [
      "Breadth:  32\n",
      "Height:  34\n"
     ]
    },
    {
     "name": "stdout",
     "output_type": "stream",
     "text": [
      "Area formula: (Breadth * Height) / 2\n",
      "Area of Triangle:  544.0\n"
     ]
    },
    {
     "name": "stdin",
     "output_type": "stream",
     "text": [
      "Height1:  2\n",
      "Height2:  4\n",
      "Breadth:  4\n"
     ]
    },
    {
     "name": "stdout",
     "output_type": "stream",
     "text": [
      "Perimeter formula: Height1+Height2+Breadth\n",
      "Perimeter of Triangle: 10\n"
     ]
    }
   ],
   "source": [
    "triangle.triangle()"
   ]
  },
  {
   "cell_type": "code",
   "execution_count": null,
   "id": "0d1814dd-ecb7-4b5f-be1f-4c5eb8ed5e55",
   "metadata": {},
   "outputs": [],
   "source": []
  }
 ],
 "metadata": {
  "kernelspec": {
   "display_name": "Python 3 (ipykernel)",
   "language": "python",
   "name": "python3"
  },
  "language_info": {
   "codemirror_mode": {
    "name": "ipython",
    "version": 3
   },
   "file_extension": ".py",
   "mimetype": "text/x-python",
   "name": "python",
   "nbconvert_exporter": "python",
   "pygments_lexer": "ipython3",
   "version": "3.13.5"
  }
 },
 "nbformat": 4,
 "nbformat_minor": 5
}
