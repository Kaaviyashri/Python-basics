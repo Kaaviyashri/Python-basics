{
 "cells": [
  {
   "cell_type": "code",
   "execution_count": 2,
   "id": "511e5dbe",
   "metadata": {},
   "outputs": [
    {
     "name": "stdout",
     "output_type": "stream",
     "text": [
      "1 4 9 16 25 "
     ]
    }
   ],
   "source": [
    "#1. Square of Numbers from 1 to 5\n",
    "#Output:\n",
    "#1 4 9 16 25\n",
    "for num in range(1,6):\n",
    "    print(num * num, end = \" \")\n"
   ]
  },
  {
   "cell_type": "code",
   "execution_count": 6,
   "id": "e886abee",
   "metadata": {},
   "outputs": [
    {
     "name": "stdout",
     "output_type": "stream",
     "text": [
      "a = 10\n",
      "b = 5\n"
     ]
    }
   ],
   "source": [
    "#2.Swap Two Variables Without Using a Temporary Variable\n",
    "#Question: Write a Python program to swap two variables a = 5 and b = 10 without using a temporary variable.\n",
    "a = 5\n",
    "b = 10\n",
    "a = a + b\n",
    "b = a - b\n",
    "a = a - b\n",
    "print(f\"a = {a}\")\n",
    "print(f\"b = {b}\")\n"
   ]
  },
  {
   "cell_type": "code",
   "execution_count": 3,
   "id": "adfc0479",
   "metadata": {},
   "outputs": [
    {
     "name": "stdout",
     "output_type": "stream",
     "text": [
      "[12, 24, 40, 56]\n",
      "[17, 19, 35]\n"
     ]
    }
   ],
   "source": [
    " #3.Find Even and Odd Numbers in a List\n",
    "#Question: Write a Python program to separate even and odd numbers from the list [12, 17, 19, 24, 35, 40, 56].\n",
    "lists = [12,17,19,24,35,40,56]\n",
    "even = []\n",
    "odd = []\n",
    "for num in lists:\n",
    "    if (num % 2 == 0):\n",
    "        even.append(num)\n",
    "    else:\n",
    "        odd.append(num)\n",
    "print(even)\n",
    "print(odd)"
   ]
  },
  {
   "cell_type": "code",
   "execution_count": 10,
   "id": "9bd0afd7",
   "metadata": {},
   "outputs": [
    {
     "name": "stdout",
     "output_type": "stream",
     "text": [
      "54321\n"
     ]
    }
   ],
   "source": [
    "#4. Reverse a Number\n",
    "#Question: Write a Python program to reverse the number 12345.\n",
    "num = 12345\n",
    "num_str = str(num)\n",
    "rev_str = num_str[::-1]\n",
    "num_value = int(rev_str)\n",
    "print(num_value)\n"
   ]
  },
  {
   "cell_type": "code",
   "execution_count": 16,
   "id": "baf1f666",
   "metadata": {},
   "outputs": [
    {
     "name": "stdout",
     "output_type": "stream",
     "text": [
      "45\n"
     ]
    }
   ],
   "source": [
    "#5. Find the Second Largest Number in a List\n",
    "#Question: Write a Python program to find the second largest number in the list [12, 45, 98, 34, 23].\n",
    "lists =  [12, 45, 98, 34, 23]\n",
    "lists2 = sorted(lists)\n",
    "second_largest = lists2[-2]\n",
    "print(second_largest)"
   ]
  },
  {
   "cell_type": "code",
   "execution_count": null,
   "id": "eb6e77d2",
   "metadata": {},
   "outputs": [],
   "source": []
  },
  {
   "cell_type": "code",
   "execution_count": null,
   "id": "cf27438f",
   "metadata": {},
   "outputs": [],
   "source": []
  },
  {
   "cell_type": "code",
   "execution_count": null,
   "id": "8a8e84b3",
   "metadata": {},
   "outputs": [],
   "source": []
  },
  {
   "cell_type": "code",
   "execution_count": null,
   "id": "a73f86c4",
   "metadata": {},
   "outputs": [],
   "source": []
  }
 ],
 "metadata": {
  "kernelspec": {
   "display_name": "Python 3 (ipykernel)",
   "language": "python",
   "name": "python3"
  },
  "language_info": {
   "codemirror_mode": {
    "name": "ipython",
    "version": 3
   },
   "file_extension": ".py",
   "mimetype": "text/x-python",
   "name": "python",
   "nbconvert_exporter": "python",
   "pygments_lexer": "ipython3",
   "version": "3.13.5"
  }
 },
 "nbformat": 4,
 "nbformat_minor": 5
}
